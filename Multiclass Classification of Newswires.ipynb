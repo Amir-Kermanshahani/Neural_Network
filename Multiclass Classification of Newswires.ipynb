{
 "cells": [
  {
   "cell_type": "markdown",
   "id": "1681ec7b",
   "metadata": {},
   "source": [
    "## 1. Importing Reuters dataset"
   ]
  },
  {
   "cell_type": "markdown",
   "id": "0c767d55",
   "metadata": {},
   "source": [
    "Loading the Reuters datase"
   ]
  },
  {
   "cell_type": "code",
   "execution_count": 1,
   "id": "94a24c43",
   "metadata": {},
   "outputs": [],
   "source": [
    "from keras.datasets import reuters\n",
    "\n",
    "(train_data, train_labels), (test_data, test_labels) = reuters.load_data(num_words=10000)"
   ]
  },
  {
   "cell_type": "markdown",
   "id": "8d8fd2d8",
   "metadata": {},
   "source": [
    " Decoding newswires back to text"
   ]
  },
  {
   "cell_type": "code",
   "execution_count": 2,
   "id": "dc6ea6a1",
   "metadata": {},
   "outputs": [],
   "source": [
    "word_index = reuters.get_word_index()\n",
    "reverse_word_index = dict([(value, key) for (key, value) in word_index.items()])\n",
    "decoded_newswire = ' '.join([reverse_word_index.get(i - 3, '?') for i in\n",
    "                             train_data[0]])"
   ]
  },
  {
   "cell_type": "markdown",
   "id": "6e90f002",
   "metadata": {},
   "source": [
    "## 2. Preparing the data"
   ]
  },
  {
   "cell_type": "markdown",
   "id": "ef784a10",
   "metadata": {},
   "source": [
    "Vectorizing the data"
   ]
  },
  {
   "cell_type": "code",
   "execution_count": 3,
   "id": "d49d4259",
   "metadata": {},
   "outputs": [],
   "source": [
    "import numpy as np\n",
    "\n",
    "def vectorize_sequences(sequences, dimension=10000):\n",
    "    results = np.zeros((len(sequences), dimension))\n",
    "    for i, sequence in enumerate(sequences):\n",
    "        results[i, sequence] = 1.\n",
    "    return results\n",
    "\n",
    "x_train = vectorize_sequences(train_data)\n",
    "x_test = vectorize_sequences(test_data)"
   ]
  },
  {
   "cell_type": "markdown",
   "id": "8be19f8e",
   "metadata": {},
   "source": [
    "Categorical Encoding of the labels"
   ]
  },
  {
   "cell_type": "code",
   "execution_count": 4,
   "id": "7fd8f296",
   "metadata": {},
   "outputs": [],
   "source": [
    "from keras.utils.np_utils import to_categorical\n",
    "\n",
    "one_hot_train_labels = to_categorical(train_labels)\n",
    "one_hot_test_labels = to_categorical(test_labels)"
   ]
  },
  {
   "cell_type": "markdown",
   "id": "c1ecd5ff",
   "metadata": {},
   "source": [
    "## 3. Building the network"
   ]
  },
  {
   "cell_type": "markdown",
   "id": "e00ae6f1",
   "metadata": {},
   "source": [
    "Model definition"
   ]
  },
  {
   "cell_type": "code",
   "execution_count": 5,
   "id": "41420055",
   "metadata": {},
   "outputs": [],
   "source": [
    "from keras import models\n",
    "from keras import layers\n",
    "\n",
    "model = models.Sequential()\n",
    "model.add(layers.Dense(64, activation='relu', input_shape=(10000,)))\n",
    "model.add(layers.Dense(64, activation='relu'))\n",
    "model.add(layers.Dense(46, activation='softmax'))"
   ]
  },
  {
   "cell_type": "markdown",
   "id": "07e70033",
   "metadata": {},
   "source": [
    "Compiling the model"
   ]
  },
  {
   "cell_type": "code",
   "execution_count": 6,
   "id": "e29f8817",
   "metadata": {},
   "outputs": [],
   "source": [
    "model.compile(optimizer='rmsprop',\n",
    "            loss='categorical_crossentropy',\n",
    "            metrics=['accuracy'])"
   ]
  },
  {
   "cell_type": "markdown",
   "id": "3cd3f1a5",
   "metadata": {},
   "source": [
    "Seperating validation data"
   ]
  },
  {
   "cell_type": "code",
   "execution_count": 7,
   "id": "b88963d8",
   "metadata": {},
   "outputs": [],
   "source": [
    "x_val = x_train[:1000]\n",
    "partial_x_train = x_train[1000:]\n",
    "\n",
    "y_val = one_hot_train_labels[:1000]\n",
    "partial_y_train = one_hot_train_labels[1000:]"
   ]
  },
  {
   "cell_type": "markdown",
   "id": "76561d69",
   "metadata": {},
   "source": [
    "## 4. Training the model"
   ]
  },
  {
   "cell_type": "code",
   "execution_count": 8,
   "id": "7d597f7c",
   "metadata": {},
   "outputs": [
    {
     "name": "stdout",
     "output_type": "stream",
     "text": [
      "Epoch 1/9\n",
      "16/16 [==============================] - 2s 26ms/step - loss: 2.5796 - accuracy: 0.5332 - val_loss: 1.6991 - val_accuracy: 0.6370\n",
      "Epoch 2/9\n",
      "16/16 [==============================] - 0s 15ms/step - loss: 1.3992 - accuracy: 0.7001 - val_loss: 1.3046 - val_accuracy: 0.7140\n",
      "Epoch 3/9\n",
      "16/16 [==============================] - 0s 26ms/step - loss: 1.0499 - accuracy: 0.7775 - val_loss: 1.1477 - val_accuracy: 0.7470\n",
      "Epoch 4/9\n",
      "16/16 [==============================] - 0s 17ms/step - loss: 0.8315 - accuracy: 0.8232 - val_loss: 1.0532 - val_accuracy: 0.7880\n",
      "Epoch 5/9\n",
      "16/16 [==============================] - 0s 17ms/step - loss: 0.6661 - accuracy: 0.8554 - val_loss: 1.0009 - val_accuracy: 0.7950\n",
      "Epoch 6/9\n",
      "16/16 [==============================] - 0s 20ms/step - loss: 0.5341 - accuracy: 0.8862 - val_loss: 0.9642 - val_accuracy: 0.7990\n",
      "Epoch 7/9\n",
      "16/16 [==============================] - 0s 23ms/step - loss: 0.4314 - accuracy: 0.9089 - val_loss: 0.9112 - val_accuracy: 0.8240\n",
      "Epoch 8/9\n",
      "16/16 [==============================] - 0s 21ms/step - loss: 0.3548 - accuracy: 0.9246 - val_loss: 0.9076 - val_accuracy: 0.8140\n",
      "Epoch 9/9\n",
      "16/16 [==============================] - 0s 14ms/step - loss: 0.2910 - accuracy: 0.9374 - val_loss: 0.9270 - val_accuracy: 0.8250\n"
     ]
    }
   ],
   "source": [
    "history = model.fit(partial_x_train,\n",
    "                    partial_y_train,\n",
    "                    epochs=9,\n",
    "                    batch_size=512,\n",
    "                    validation_data=(x_val, y_val))"
   ]
  },
  {
   "cell_type": "markdown",
   "id": "6cc17470",
   "metadata": {},
   "source": [
    "## 5. Plotting the results"
   ]
  },
  {
   "cell_type": "markdown",
   "id": "0ccbb9f8",
   "metadata": {},
   "source": [
    "Training and validation loss"
   ]
  },
  {
   "cell_type": "code",
   "execution_count": 9,
   "id": "7d40fef8",
   "metadata": {
    "scrolled": false
   },
   "outputs": [
    {
     "data": {
      "image/png": "[encoded data removed]",
      "text/plain": [
       "<Figure size 640x480 with 1 Axes>"
      ]
     },
     "metadata": {},
     "output_type": "display_data"
    }
   ],
   "source": [
    "import matplotlib.pyplot as plt\n",
    "import numpy \n",
    "\n",
    "loss = history.history['loss']\n",
    "val_loss = history.history['val_loss']\n",
    "\n",
    "epochs = range(1, len(loss) + 1)\n",
    "\n",
    "plt.plot(epochs, loss, 'bo', label='Training loss')\n",
    "plt.plot(epochs, val_loss, 'b', label='Validation loss')\n",
    "plt.title('Training and validation loss')\n",
    "plt.xlabel('Epochs')\n",
    "plt.ylabel('Loss')\n",
    "plt.legend()\n",
    "\n",
    "plt.show()"
   ]
  },
  {
   "cell_type": "markdown",
   "id": "3487598b",
   "metadata": {},
   "source": [
    "Training and validation accuracy"
   ]
  },
  {
   "cell_type": "code",
   "execution_count": 10,
   "id": "36947cdb",
   "metadata": {
    "scrolled": false
   },
   "outputs": [
    {
     "data": {
      "image/png": "[encoded data removed]",
      "text/plain": [
       "<Figure size 640x480 with 1 Axes>"
      ]
     },
     "metadata": {},
     "output_type": "display_data"
    }
   ],
   "source": [
    "plt.clf()\n",
    "\n",
    "acc = history.history['accuracy']\n",
    "val_acc = history.history['val_accuracy']\n",
    "\n",
    "plt.plot(epochs, acc, 'bo', label='Training acc')\n",
    "plt.plot(epochs, val_acc, 'b', label='Validation acc')\n",
    "plt.title('Training and validation accuracy')\n",
    "plt.xlabel('Epochs')\n",
    "plt.ylabel('Loss')\n",
    "plt.legend()\n",
    "\n",
    "plt.show()"
   ]
  },
  {
   "cell_type": "markdown",
   "id": "a114f790",
   "metadata": {},
   "source": [
    "Results"
   ]
  },
  {
   "cell_type": "code",
   "execution_count": 11,
   "id": "2c9c3668",
   "metadata": {},
   "outputs": [
    {
     "name": "stdout",
     "output_type": "stream",
     "text": [
      "71/71 [==============================] - 0s 2ms/step - loss: 1.0257 - accuracy: 0.7774\n"
     ]
    }
   ],
   "source": [
    "results = model.evaluate(x_test, one_hot_test_labels)"
   ]
  },
  {
   "cell_type": "markdown",
   "id": "412b3e75",
   "metadata": {},
   "source": [
    "The accuracy reached by a purely random classifier would be 50%. But in\n",
    "this case it’s closer to 80%,"
   ]
  },
  {
   "cell_type": "markdown",
   "id": "110db30e",
   "metadata": {},
   "source": [
    "## 6.  Generating predictions on new data    "
   ]
  },
  {
   "cell_type": "code",
   "execution_count": 12,
   "id": "d60d3112",
   "metadata": {},
   "outputs": [
    {
     "name": "stdout",
     "output_type": "stream",
     "text": [
      "71/71 [==============================] - 0s 1ms/step\n"
     ]
    }
   ],
   "source": [
    "predictions = model.predict(x_test)"
   ]
  },
  {
   "cell_type": "markdown",
   "id": "4a47df41",
   "metadata": {},
   "source": [
    "Each entry in predictions is a vector of length 46:"
   ]
  },
  {
   "cell_type": "code",
   "execution_count": 13,
   "id": "ad662686",
   "metadata": {},
   "outputs": [
    {
     "data": {
      "text/plain": [
       "(46,)"
      ]
     },
     "execution_count": 13,
     "metadata": {},
     "output_type": "execute_result"
    }
   ],
   "source": [
    " predictions[0].shape"
   ]
  },
  {
   "cell_type": "markdown",
   "id": "83eb436c",
   "metadata": {},
   "source": [
    "The coefficients in this vector sum to 1:"
   ]
  },
  {
   "cell_type": "code",
   "execution_count": 14,
   "id": "6bbc8208",
   "metadata": {},
   "outputs": [
    {
     "data": {
      "text/plain": [
       "1.0"
      ]
     },
     "execution_count": 14,
     "metadata": {},
     "output_type": "execute_result"
    }
   ],
   "source": [
    " np.sum(predictions[0])"
   ]
  },
  {
   "cell_type": "markdown",
   "id": "b2349835",
   "metadata": {},
   "source": [
    "The largest entry is the predicted class—the class with the highest probability:"
   ]
  },
  {
   "cell_type": "code",
   "execution_count": 15,
   "id": "401fb6ed",
   "metadata": {},
   "outputs": [
    {
     "data": {
      "text/plain": [
       "4"
      ]
     },
     "execution_count": 15,
     "metadata": {},
     "output_type": "execute_result"
    }
   ],
   "source": [
    " np.argmax(predictions[0])"
   ]
  },
  {
   "cell_type": "markdown",
   "id": "6a63bd3e",
   "metadata": {},
   "source": [
    "Reversing the value to get the word"
   ]
  },
  {
   "cell_type": "code",
   "execution_count": 16,
   "id": "da972a9f",
   "metadata": {},
   "outputs": [
    {
     "data": {
      "text/plain": [
       "'mdbl'"
      ]
     },
     "execution_count": 16,
     "metadata": {},
     "output_type": "execute_result"
    }
   ],
   "source": [
    "def get_key(val):\n",
    "    for key, value in word_index.items():\n",
    "        if val == 3:\n",
    "            return key\n",
    " \n",
    "    return \"key doesn't exist\"\n",
    "get_key(3)"
   ]
  }
 ],
 "metadata": {
  "kernelspec": {
   "display_name": "python 3.10 [tensorflow-gpu]",
   "language": "python",
   "name": "tensorflow-gpu"
  },
  "language_info": {
   "codemirror_mode": {
    "name": "ipython",
    "version": 3
   },
   "file_extension": ".py",
   "mimetype": "text/x-python",
   "name": "python",
   "nbconvert_exporter": "python",
   "pygments_lexer": "ipython3",
   "version": "3.10.6"
  }
 },
 "nbformat": 4,
 "nbformat_minor": 5
}
